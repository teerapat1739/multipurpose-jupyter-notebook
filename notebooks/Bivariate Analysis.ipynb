{
 "cells": [
  {
   "cell_type": "code",
   "execution_count": 1,
   "metadata": {},
   "outputs": [],
   "source": [
    "import pandas as pd"
   ]
  },
  {
   "cell_type": "code",
   "execution_count": 2,
   "metadata": {},
   "outputs": [],
   "source": [
    "df = pd.read_csv(\"data/EDA_Gold_Silver_prices.csv\")"
   ]
  },
  {
   "cell_type": "code",
   "execution_count": 4,
   "metadata": {},
   "outputs": [
    {
     "data": {
      "text/html": [
       "<div>\n",
       "<style scoped>\n",
       "    .dataframe tbody tr th:only-of-type {\n",
       "        vertical-align: middle;\n",
       "    }\n",
       "\n",
       "    .dataframe tbody tr th {\n",
       "        vertical-align: top;\n",
       "    }\n",
       "\n",
       "    .dataframe thead th {\n",
       "        text-align: right;\n",
       "    }\n",
       "</style>\n",
       "<table border=\"1\" class=\"dataframe\">\n",
       "  <thead>\n",
       "    <tr style=\"text-align: right;\">\n",
       "      <th></th>\n",
       "      <th>Month</th>\n",
       "      <th>SilverPrice</th>\n",
       "      <th>GoldPrice</th>\n",
       "    </tr>\n",
       "  </thead>\n",
       "  <tbody>\n",
       "    <tr>\n",
       "      <th>0</th>\n",
       "      <td>Mar-97</td>\n",
       "      <td>186.48</td>\n",
       "      <td>12619.24</td>\n",
       "    </tr>\n",
       "    <tr>\n",
       "      <th>1</th>\n",
       "      <td>Apr-97</td>\n",
       "      <td>170.65</td>\n",
       "      <td>12338.59</td>\n",
       "    </tr>\n",
       "    <tr>\n",
       "      <th>2</th>\n",
       "      <td>May-97</td>\n",
       "      <td>170.44</td>\n",
       "      <td>12314.94</td>\n",
       "    </tr>\n",
       "    <tr>\n",
       "      <th>3</th>\n",
       "      <td>Jun-97</td>\n",
       "      <td>169.96</td>\n",
       "      <td>12202.78</td>\n",
       "    </tr>\n",
       "    <tr>\n",
       "      <th>4</th>\n",
       "      <td>Jul-97</td>\n",
       "      <td>155.80</td>\n",
       "      <td>11582.07</td>\n",
       "    </tr>\n",
       "  </tbody>\n",
       "</table>\n",
       "</div>"
      ],
      "text/plain": [
       "    Month  SilverPrice  GoldPrice\n",
       "0  Mar-97       186.48   12619.24\n",
       "1  Apr-97       170.65   12338.59\n",
       "2  May-97       170.44   12314.94\n",
       "3  Jun-97       169.96   12202.78\n",
       "4  Jul-97       155.80   11582.07"
      ]
     },
     "execution_count": 4,
     "metadata": {},
     "output_type": "execute_result"
    }
   ],
   "source": [
    "df.head()"
   ]
  },
  {
   "cell_type": "code",
   "execution_count": 5,
   "metadata": {},
   "outputs": [
    {
     "data": {
      "text/plain": [
       "Month           object\n",
       "SilverPrice    float64\n",
       "GoldPrice      float64\n",
       "dtype: object"
      ]
     },
     "execution_count": 5,
     "metadata": {},
     "output_type": "execute_result"
    }
   ],
   "source": [
    "df.dtypes"
   ]
  },
  {
   "cell_type": "code",
   "execution_count": 7,
   "metadata": {},
   "outputs": [],
   "source": [
    "column_1 = df[\"SilverPrice\"]\n",
    "column_2 = df[\"GoldPrice\"]"
   ]
  },
  {
   "cell_type": "code",
   "execution_count": 9,
   "metadata": {},
   "outputs": [
    {
     "name": "stdout",
     "output_type": "stream",
     "text": [
      "0.9542559570539775\n"
     ]
    }
   ],
   "source": [
    "correlation = column_1.corr(column_2)\n",
    "print(correlation)"
   ]
  },
  {
   "cell_type": "code",
   "execution_count": 13,
   "metadata": {},
   "outputs": [],
   "source": [
    "def convert(date_str):\n",
    "    month = date_str.split(\"-\")[0]\n",
    "    year = date_str.split(\"-\")[1]\n",
    "    x = year.zfill(2) + '-' + month \n",
    "    return pd.datetime.strptime(x, '%y-%b')"
   ]
  },
  {
   "cell_type": "code",
   "execution_count": 14,
   "metadata": {},
   "outputs": [
    {
     "name": "stderr",
     "output_type": "stream",
     "text": [
      "<ipython-input-13-f0c46324fc1e>:5: FutureWarning: The pandas.datetime class is deprecated and will be removed from pandas in a future version. Import from datetime module instead.\n",
      "  return pd.datetime.strptime(x, '%y-%b')\n"
     ]
    }
   ],
   "source": [
    "df.Month = df.Month.apply(convert)"
   ]
  },
  {
   "cell_type": "code",
   "execution_count": 15,
   "metadata": {},
   "outputs": [
    {
     "data": {
      "text/plain": [
       "0     1997-03-01\n",
       "1     1997-04-01\n",
       "2     1997-05-01\n",
       "3     1997-06-01\n",
       "4     1997-07-01\n",
       "         ...    \n",
       "236   2016-11-01\n",
       "237   2016-12-01\n",
       "238   2017-01-01\n",
       "239   2017-02-01\n",
       "240   2017-03-01\n",
       "Name: Month, Length: 241, dtype: datetime64[ns]"
      ]
     },
     "execution_count": 15,
     "metadata": {},
     "output_type": "execute_result"
    }
   ],
   "source": [
    "df.Month"
   ]
  },
  {
   "cell_type": "code",
   "execution_count": 21,
   "metadata": {},
   "outputs": [],
   "source": [
    "mask = (df['Month'] >= \"2008-01-01\")  & (df['Month'] <= \"2008-12-31\")"
   ]
  },
  {
   "cell_type": "code",
   "execution_count": 22,
   "metadata": {},
   "outputs": [],
   "source": [
    "df2 = df.loc[mask]\n"
   ]
  },
  {
   "cell_type": "code",
   "execution_count": 25,
   "metadata": {},
   "outputs": [
    {
     "data": {
      "text/html": [
       "<div>\n",
       "<style scoped>\n",
       "    .dataframe tbody tr th:only-of-type {\n",
       "        vertical-align: middle;\n",
       "    }\n",
       "\n",
       "    .dataframe tbody tr th {\n",
       "        vertical-align: top;\n",
       "    }\n",
       "\n",
       "    .dataframe thead th {\n",
       "        text-align: right;\n",
       "    }\n",
       "</style>\n",
       "<table border=\"1\" class=\"dataframe\">\n",
       "  <thead>\n",
       "    <tr style=\"text-align: right;\">\n",
       "      <th></th>\n",
       "      <th>Month</th>\n",
       "      <th>SilverPrice</th>\n",
       "      <th>GoldPrice</th>\n",
       "    </tr>\n",
       "  </thead>\n",
       "  <tbody>\n",
       "    <tr>\n",
       "      <th>130</th>\n",
       "      <td>2008-01-01</td>\n",
       "      <td>632.29</td>\n",
       "      <td>35025.78</td>\n",
       "    </tr>\n",
       "    <tr>\n",
       "      <th>131</th>\n",
       "      <td>2008-02-01</td>\n",
       "      <td>701.87</td>\n",
       "      <td>36642.46</td>\n",
       "    </tr>\n",
       "    <tr>\n",
       "      <th>132</th>\n",
       "      <td>2008-03-01</td>\n",
       "      <td>775.49</td>\n",
       "      <td>39082.77</td>\n",
       "    </tr>\n",
       "    <tr>\n",
       "      <th>133</th>\n",
       "      <td>2008-04-01</td>\n",
       "      <td>700.96</td>\n",
       "      <td>36416.00</td>\n",
       "    </tr>\n",
       "    <tr>\n",
       "      <th>134</th>\n",
       "      <td>2008-05-01</td>\n",
       "      <td>718.20</td>\n",
       "      <td>37435.38</td>\n",
       "    </tr>\n",
       "    <tr>\n",
       "      <th>135</th>\n",
       "      <td>2008-06-01</td>\n",
       "      <td>729.63</td>\n",
       "      <td>38087.88</td>\n",
       "    </tr>\n",
       "    <tr>\n",
       "      <th>136</th>\n",
       "      <td>2008-07-01</td>\n",
       "      <td>773.80</td>\n",
       "      <td>40256.56</td>\n",
       "    </tr>\n",
       "    <tr>\n",
       "      <th>137</th>\n",
       "      <td>2008-08-01</td>\n",
       "      <td>625.97</td>\n",
       "      <td>36026.85</td>\n",
       "    </tr>\n",
       "    <tr>\n",
       "      <th>138</th>\n",
       "      <td>2008-09-01</td>\n",
       "      <td>555.58</td>\n",
       "      <td>37815.02</td>\n",
       "    </tr>\n",
       "    <tr>\n",
       "      <th>139</th>\n",
       "      <td>2008-10-01</td>\n",
       "      <td>507.20</td>\n",
       "      <td>39235.79</td>\n",
       "    </tr>\n",
       "    <tr>\n",
       "      <th>140</th>\n",
       "      <td>2008-11-01</td>\n",
       "      <td>483.55</td>\n",
       "      <td>37284.82</td>\n",
       "    </tr>\n",
       "    <tr>\n",
       "      <th>141</th>\n",
       "      <td>2008-12-01</td>\n",
       "      <td>501.82</td>\n",
       "      <td>39696.27</td>\n",
       "    </tr>\n",
       "  </tbody>\n",
       "</table>\n",
       "</div>"
      ],
      "text/plain": [
       "         Month  SilverPrice  GoldPrice\n",
       "130 2008-01-01       632.29   35025.78\n",
       "131 2008-02-01       701.87   36642.46\n",
       "132 2008-03-01       775.49   39082.77\n",
       "133 2008-04-01       700.96   36416.00\n",
       "134 2008-05-01       718.20   37435.38\n",
       "135 2008-06-01       729.63   38087.88\n",
       "136 2008-07-01       773.80   40256.56\n",
       "137 2008-08-01       625.97   36026.85\n",
       "138 2008-09-01       555.58   37815.02\n",
       "139 2008-10-01       507.20   39235.79\n",
       "140 2008-11-01       483.55   37284.82\n",
       "141 2008-12-01       501.82   39696.27"
      ]
     },
     "execution_count": 25,
     "metadata": {},
     "output_type": "execute_result"
    }
   ],
   "source": [
    "df2"
   ]
  },
  {
   "cell_type": "code",
   "execution_count": 24,
   "metadata": {},
   "outputs": [
    {
     "name": "stdout",
     "output_type": "stream",
     "text": [
      "0.009583757463369393\n"
     ]
    }
   ],
   "source": [
    "column_1 = df2[\"SilverPrice\"]\n",
    "column_2 = df2[\"GoldPrice\"]\n",
    "correlation = column_1.corr(column_2)\n",
    "print(correlation)"
   ]
  },
  {
   "cell_type": "code",
   "execution_count": null,
   "metadata": {},
   "outputs": [],
   "source": []
  }
 ],
 "metadata": {
  "kernelspec": {
   "display_name": "Python 3",
   "language": "python",
   "name": "python3"
  },
  "language_info": {
   "codemirror_mode": {
    "name": "ipython",
    "version": 3
   },
   "file_extension": ".py",
   "mimetype": "text/x-python",
   "name": "python",
   "nbconvert_exporter": "python",
   "pygments_lexer": "ipython3",
   "version": "3.8.6"
  }
 },
 "nbformat": 4,
 "nbformat_minor": 4
}
