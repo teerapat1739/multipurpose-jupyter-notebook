{
 "cells": [
  {
   "cell_type": "code",
   "execution_count": 1,
   "metadata": {},
   "outputs": [],
   "source": [
    "import pandas as pd"
   ]
  },
  {
   "cell_type": "code",
   "execution_count": 2,
   "metadata": {},
   "outputs": [
    {
     "data": {
      "text/plain": [
       "<module 'pandas' from '/opt/conda/lib/python3.8/site-packages/pandas/__init__.py'>"
      ]
     },
     "execution_count": 2,
     "metadata": {},
     "output_type": "execute_result"
    }
   ],
   "source": [
    "pd"
   ]
  },
  {
   "cell_type": "code",
   "execution_count": 3,
   "metadata": {},
   "outputs": [],
   "source": [
    "df_finno_external_id = pd.read_csv(\"query_result.csv\")"
   ]
  },
  {
   "cell_type": "code",
   "execution_count": 4,
   "metadata": {},
   "outputs": [
    {
     "data": {
      "text/html": [
       "<div>\n",
       "<style scoped>\n",
       "    .dataframe tbody tr th:only-of-type {\n",
       "        vertical-align: middle;\n",
       "    }\n",
       "\n",
       "    .dataframe tbody tr th {\n",
       "        vertical-align: top;\n",
       "    }\n",
       "\n",
       "    .dataframe thead th {\n",
       "        text-align: right;\n",
       "    }\n",
       "</style>\n",
       "<table border=\"1\" class=\"dataframe\">\n",
       "  <thead>\n",
       "    <tr style=\"text-align: right;\">\n",
       "      <th></th>\n",
       "      <th>external_id</th>\n",
       "    </tr>\n",
       "  </thead>\n",
       "  <tbody>\n",
       "    <tr>\n",
       "      <th>0</th>\n",
       "      <td>fffeb70a-9ea3-4965-93eb-3494dabbc41f</td>\n",
       "    </tr>\n",
       "    <tr>\n",
       "      <th>1</th>\n",
       "      <td>fffea142-2e9b-47bf-8a3f-24dfe94d7ad9</td>\n",
       "    </tr>\n",
       "    <tr>\n",
       "      <th>2</th>\n",
       "      <td>fffe8465-ce54-4164-bd4b-a079df1a148c</td>\n",
       "    </tr>\n",
       "    <tr>\n",
       "      <th>3</th>\n",
       "      <td>fffe6d43-a7d4-4a9c-a405-1498f9e09faf</td>\n",
       "    </tr>\n",
       "    <tr>\n",
       "      <th>4</th>\n",
       "      <td>fffdf820-f1fb-438b-92d4-91b8ea7b0dfd</td>\n",
       "    </tr>\n",
       "  </tbody>\n",
       "</table>\n",
       "</div>"
      ],
      "text/plain": [
       "                            external_id\n",
       "0  fffeb70a-9ea3-4965-93eb-3494dabbc41f\n",
       "1  fffea142-2e9b-47bf-8a3f-24dfe94d7ad9\n",
       "2  fffe8465-ce54-4164-bd4b-a079df1a148c\n",
       "3  fffe6d43-a7d4-4a9c-a405-1498f9e09faf\n",
       "4  fffdf820-f1fb-438b-92d4-91b8ea7b0dfd"
      ]
     },
     "execution_count": 4,
     "metadata": {},
     "output_type": "execute_result"
    }
   ],
   "source": [
    "df_finno_external_id.head()"
   ]
  },
  {
   "cell_type": "code",
   "execution_count": 5,
   "metadata": {},
   "outputs": [
    {
     "data": {
      "text/html": [
       "<div>\n",
       "<style scoped>\n",
       "    .dataframe tbody tr th:only-of-type {\n",
       "        vertical-align: middle;\n",
       "    }\n",
       "\n",
       "    .dataframe tbody tr th {\n",
       "        vertical-align: top;\n",
       "    }\n",
       "\n",
       "    .dataframe thead th {\n",
       "        text-align: right;\n",
       "    }\n",
       "</style>\n",
       "<table border=\"1\" class=\"dataframe\">\n",
       "  <thead>\n",
       "    <tr style=\"text-align: right;\">\n",
       "      <th></th>\n",
       "      <th>user_id</th>\n",
       "      <th>appboy_id</th>\n",
       "    </tr>\n",
       "  </thead>\n",
       "  <tbody>\n",
       "    <tr>\n",
       "      <th>0</th>\n",
       "      <td>84e24e4f-6992-45ed-b815-0b10c6657ec3</td>\n",
       "      <td>5ece9df0597e266c2d2bb076</td>\n",
       "    </tr>\n",
       "    <tr>\n",
       "      <th>1</th>\n",
       "      <td>340e3b60-6c6e-4fa9-b3e3-f61058741ccb</td>\n",
       "      <td>5da87c093d87b56f4219e7a8</td>\n",
       "    </tr>\n",
       "    <tr>\n",
       "      <th>2</th>\n",
       "      <td>feb14097-43b4-478f-968d-929639ccf551</td>\n",
       "      <td>5ebd760d72203b38eb1b5956</td>\n",
       "    </tr>\n",
       "    <tr>\n",
       "      <th>3</th>\n",
       "      <td>08998e5b-0e99-4684-9211-874dfde6c6dc</td>\n",
       "      <td>5e917a8036cbbc7c4f620d76</td>\n",
       "    </tr>\n",
       "    <tr>\n",
       "      <th>4</th>\n",
       "      <td>NaN</td>\n",
       "      <td>5f39d620e178e46b10659660</td>\n",
       "    </tr>\n",
       "  </tbody>\n",
       "</table>\n",
       "</div>"
      ],
      "text/plain": [
       "                                user_id                 appboy_id\n",
       "0  84e24e4f-6992-45ed-b815-0b10c6657ec3  5ece9df0597e266c2d2bb076\n",
       "1  340e3b60-6c6e-4fa9-b3e3-f61058741ccb  5da87c093d87b56f4219e7a8\n",
       "2  feb14097-43b4-478f-968d-929639ccf551  5ebd760d72203b38eb1b5956\n",
       "3  08998e5b-0e99-4684-9211-874dfde6c6dc  5e917a8036cbbc7c4f620d76\n",
       "4                                   NaN  5f39d620e178e46b10659660"
      ]
     },
     "execution_count": 5,
     "metadata": {},
     "output_type": "execute_result"
    }
   ],
   "source": [
    "df_braze = pd.read_csv(\"braze.csv\")\n",
    "df_braze.head()\n",
    "\n",
    "# df_braze.fillna(\"null\")\n",
    "# df_braze.dropna()"
   ]
  },
  {
   "cell_type": "code",
   "execution_count": 6,
   "metadata": {},
   "outputs": [
    {
     "data": {
      "text/html": [
       "<div>\n",
       "<style scoped>\n",
       "    .dataframe tbody tr th:only-of-type {\n",
       "        vertical-align: middle;\n",
       "    }\n",
       "\n",
       "    .dataframe tbody tr th {\n",
       "        vertical-align: top;\n",
       "    }\n",
       "\n",
       "    .dataframe thead th {\n",
       "        text-align: right;\n",
       "    }\n",
       "</style>\n",
       "<table border=\"1\" class=\"dataframe\">\n",
       "  <thead>\n",
       "    <tr style=\"text-align: right;\">\n",
       "      <th></th>\n",
       "      <th>user_id</th>\n",
       "      <th>appboy_id</th>\n",
       "    </tr>\n",
       "  </thead>\n",
       "  <tbody>\n",
       "    <tr>\n",
       "      <th>4</th>\n",
       "      <td>NaN</td>\n",
       "      <td>5f39d620e178e46b10659660</td>\n",
       "    </tr>\n",
       "    <tr>\n",
       "      <th>8</th>\n",
       "      <td>NaN</td>\n",
       "      <td>5f2e589f8e57b466d4d6a2a7</td>\n",
       "    </tr>\n",
       "    <tr>\n",
       "      <th>10</th>\n",
       "      <td>NaN</td>\n",
       "      <td>5ea6838ed5bd4b65d1cc3c92</td>\n",
       "    </tr>\n",
       "    <tr>\n",
       "      <th>12</th>\n",
       "      <td>NaN</td>\n",
       "      <td>5fa24f85e2b56372d02dff4d</td>\n",
       "    </tr>\n",
       "    <tr>\n",
       "      <th>13</th>\n",
       "      <td>NaN</td>\n",
       "      <td>5f62f61bf8981c42f00ce63b</td>\n",
       "    </tr>\n",
       "  </tbody>\n",
       "</table>\n",
       "</div>"
      ],
      "text/plain": [
       "   user_id                 appboy_id\n",
       "4      NaN  5f39d620e178e46b10659660\n",
       "8      NaN  5f2e589f8e57b466d4d6a2a7\n",
       "10     NaN  5ea6838ed5bd4b65d1cc3c92\n",
       "12     NaN  5fa24f85e2b56372d02dff4d\n",
       "13     NaN  5f62f61bf8981c42f00ce63b"
      ]
     },
     "execution_count": 6,
     "metadata": {},
     "output_type": "execute_result"
    }
   ],
   "source": [
    "df_braze_null_user_id = df_braze[df_braze['user_id'].isnull()]\n",
    "df_braze_null_user_id.head()"
   ]
  },
  {
   "cell_type": "code",
   "execution_count": 7,
   "metadata": {},
   "outputs": [],
   "source": [
    "# df_braze_null_user_id.drop(['user_id', 'timezone', 'email', 'session_count', 'first_session', 'last_session', 'last_app_version_used', 'in_app_purchase_total', 'unsubscribed_from_emails_at', 'devices', 'created_at'], inplace=True, axis=1)\n",
    "df_braze_null_user_id.drop(['user_id'], inplace=True, axis=1)\n",
    "df_braze_null_user_id.head()\n",
    "df_braze_null_user_id.to_csv(\"df_braze_null_external_id_result.csv\")"
   ]
  },
  {
   "cell_type": "code",
   "execution_count": 8,
   "metadata": {},
   "outputs": [],
   "source": [
    "df_braze = df_braze.dropna()\n",
    "# df_braze.head()"
   ]
  },
  {
   "cell_type": "code",
   "execution_count": 9,
   "metadata": {},
   "outputs": [],
   "source": [
    "import pyspark\n",
    "\n",
    "spark = pyspark.sql.SparkSession.builder\\\n",
    "    .appName('braze-intigrity')\\\n",
    "    .getOrCreate()\n"
   ]
  },
  {
   "cell_type": "code",
   "execution_count": 10,
   "metadata": {},
   "outputs": [],
   "source": [
    "df_spark_braze = spark.createDataFrame(df_braze)"
   ]
  },
  {
   "cell_type": "code",
   "execution_count": 11,
   "metadata": {},
   "outputs": [
    {
     "name": "stdout",
     "output_type": "stream",
     "text": [
      "+--------------------+--------------------+\n",
      "|             user_id|           appboy_id|\n",
      "+--------------------+--------------------+\n",
      "|84e24e4f-6992-45e...|5ece9df0597e266c2...|\n",
      "|340e3b60-6c6e-4fa...|5da87c093d87b56f4...|\n",
      "|feb14097-43b4-478...|5ebd760d72203b38e...|\n",
      "|08998e5b-0e99-468...|5e917a8036cbbc7c4...|\n",
      "|fb7a57c0-f0a2-49f...|5da87d0e67a4f841c...|\n",
      "|81127e6b-0b24-49f...|5f56ffb2ab5f857a2...|\n",
      "|e22d8fde-a852-43b...|5e4d3372b508a53f5...|\n",
      "|80d1fc6a-cbef-435...|5f15ace4adfdfd21e...|\n",
      "|9c7f8623-1be0-4ac...|5f6e93d61b89d1774...|\n",
      "|519f3cbd-0fec-440...|5e0a26078d0bd909f...|\n",
      "|83d5ea6b-794d-4d8...|5da87c50fa9b92127...|\n",
      "|454932eb-00b5-4ea...|5da879ca84a9b645e...|\n",
      "|bb55ff26-4636-4c1...|5eaa91e947e2691fa...|\n",
      "|88822aed-e60b-448...|5f7d0bc9f72bc4202...|\n",
      "|f6e0a942-4485-4b0...|5da87d74e0cf9a6a6...|\n",
      "|1cb6b797-572e-4be...|5e159502a6286e108...|\n",
      "|6a1bfdc7-9195-4ac...|5da87d2b7625565c8...|\n",
      "|45dd216d-47ac-421...|5da87bbe75435263d...|\n",
      "|af8569bc-6e7a-431...|5f7564540edc000cc...|\n",
      "|71167bca-ca9a-44d...|5de9ea45269e1d21d...|\n",
      "+--------------------+--------------------+\n",
      "only showing top 20 rows\n",
      "\n"
     ]
    }
   ],
   "source": [
    "df_spark_braze.show()\n",
    "# df_braze.count()"
   ]
  },
  {
   "cell_type": "code",
   "execution_count": 12,
   "metadata": {},
   "outputs": [],
   "source": [
    "# Register the DataFrame as a SQL temporary view\n",
    "df_spark_braze.createOrReplaceTempView(\"braze_db\")"
   ]
  },
  {
   "cell_type": "code",
   "execution_count": 13,
   "metadata": {},
   "outputs": [],
   "source": [
    "sqlBraze = spark.sql(\"SELECT * FROM braze_db\")"
   ]
  },
  {
   "cell_type": "code",
   "execution_count": 14,
   "metadata": {},
   "outputs": [
    {
     "name": "stdout",
     "output_type": "stream",
     "text": [
      "+--------------------+--------------------+\n",
      "|             user_id|           appboy_id|\n",
      "+--------------------+--------------------+\n",
      "|84e24e4f-6992-45e...|5ece9df0597e266c2...|\n",
      "|340e3b60-6c6e-4fa...|5da87c093d87b56f4...|\n",
      "|feb14097-43b4-478...|5ebd760d72203b38e...|\n",
      "|08998e5b-0e99-468...|5e917a8036cbbc7c4...|\n",
      "|fb7a57c0-f0a2-49f...|5da87d0e67a4f841c...|\n",
      "|81127e6b-0b24-49f...|5f56ffb2ab5f857a2...|\n",
      "|e22d8fde-a852-43b...|5e4d3372b508a53f5...|\n",
      "|80d1fc6a-cbef-435...|5f15ace4adfdfd21e...|\n",
      "|9c7f8623-1be0-4ac...|5f6e93d61b89d1774...|\n",
      "|519f3cbd-0fec-440...|5e0a26078d0bd909f...|\n",
      "|83d5ea6b-794d-4d8...|5da87c50fa9b92127...|\n",
      "|454932eb-00b5-4ea...|5da879ca84a9b645e...|\n",
      "|bb55ff26-4636-4c1...|5eaa91e947e2691fa...|\n",
      "|88822aed-e60b-448...|5f7d0bc9f72bc4202...|\n",
      "|f6e0a942-4485-4b0...|5da87d74e0cf9a6a6...|\n",
      "|1cb6b797-572e-4be...|5e159502a6286e108...|\n",
      "|6a1bfdc7-9195-4ac...|5da87d2b7625565c8...|\n",
      "|45dd216d-47ac-421...|5da87bbe75435263d...|\n",
      "|af8569bc-6e7a-431...|5f7564540edc000cc...|\n",
      "|71167bca-ca9a-44d...|5de9ea45269e1d21d...|\n",
      "+--------------------+--------------------+\n",
      "only showing top 20 rows\n",
      "\n"
     ]
    }
   ],
   "source": [
    "sqlBraze.show()"
   ]
  },
  {
   "cell_type": "code",
   "execution_count": 15,
   "metadata": {},
   "outputs": [
    {
     "name": "stdout",
     "output_type": "stream",
     "text": [
      "+--------------------+\n",
      "|         external_id|\n",
      "+--------------------+\n",
      "|fffeb70a-9ea3-496...|\n",
      "|fffea142-2e9b-47b...|\n",
      "|fffe8465-ce54-416...|\n",
      "|fffe6d43-a7d4-4a9...|\n",
      "|fffdf820-f1fb-438...|\n",
      "|fffdde8c-7a72-4a6...|\n",
      "|fffcce3f-7aba-4ab...|\n",
      "|fffc6917-519a-472...|\n",
      "|fffbed0c-e3b5-4b3...|\n",
      "|fffb0602-935e-471...|\n",
      "|fff9f8fd-d988-406...|\n",
      "|fff9bf67-22b7-459...|\n",
      "|fff9bd98-87f3-472...|\n",
      "|fff91eb2-1918-4f1...|\n",
      "|fff8f6d0-c17d-498...|\n",
      "|fff87cd8-9c6e-486...|\n",
      "|fff8393c-2937-4b1...|\n",
      "|fff7b341-77fb-4cc...|\n",
      "|fff669cf-678f-4d6...|\n",
      "|fff64104-644a-450...|\n",
      "+--------------------+\n",
      "only showing top 20 rows\n",
      "\n"
     ]
    },
    {
     "data": {
      "text/plain": [
       "212957"
      ]
     },
     "execution_count": 15,
     "metadata": {},
     "output_type": "execute_result"
    }
   ],
   "source": [
    "df_finno_external_id = spark.createDataFrame(df_finno_external_id)\n",
    "df_finno_external_id.show()\n",
    "df_finno_external_id.count()"
   ]
  },
  {
   "cell_type": "code",
   "execution_count": 16,
   "metadata": {},
   "outputs": [],
   "source": [
    "# Register the DataFrame as a SQL temporary view\n",
    "df_finno_external_id.createOrReplaceTempView(\"finno_db\")"
   ]
  },
  {
   "cell_type": "code",
   "execution_count": 17,
   "metadata": {},
   "outputs": [],
   "source": [
    "sqlFinno = spark.sql(\"SELECT * FROM finno_db\")"
   ]
  },
  {
   "cell_type": "code",
   "execution_count": 18,
   "metadata": {},
   "outputs": [
    {
     "name": "stdout",
     "output_type": "stream",
     "text": [
      "+--------------------+\n",
      "|         external_id|\n",
      "+--------------------+\n",
      "|fffeb70a-9ea3-496...|\n",
      "|fffea142-2e9b-47b...|\n",
      "|fffe8465-ce54-416...|\n",
      "|fffe6d43-a7d4-4a9...|\n",
      "|fffdf820-f1fb-438...|\n",
      "|fffdde8c-7a72-4a6...|\n",
      "|fffcce3f-7aba-4ab...|\n",
      "|fffc6917-519a-472...|\n",
      "|fffbed0c-e3b5-4b3...|\n",
      "|fffb0602-935e-471...|\n",
      "|fff9f8fd-d988-406...|\n",
      "|fff9bf67-22b7-459...|\n",
      "|fff9bd98-87f3-472...|\n",
      "|fff91eb2-1918-4f1...|\n",
      "|fff8f6d0-c17d-498...|\n",
      "|fff87cd8-9c6e-486...|\n",
      "|fff8393c-2937-4b1...|\n",
      "|fff7b341-77fb-4cc...|\n",
      "|fff669cf-678f-4d6...|\n",
      "|fff64104-644a-450...|\n",
      "+--------------------+\n",
      "only showing top 20 rows\n",
      "\n"
     ]
    }
   ],
   "source": [
    "sqlFinno.show()"
   ]
  },
  {
   "cell_type": "code",
   "execution_count": 19,
   "metadata": {},
   "outputs": [],
   "source": [
    "# join 2 table df_finno_external_id with df_braze\n",
    "diff_2_table = spark.sql(\"\"\"\n",
    "    SELECT * FROM \n",
    "         braze_db\n",
    "    LEFT JOIN  \n",
    "         finno_db\n",
    "    ON \n",
    "        braze_db.user_id  = finno_db.external_id\n",
    "    WHERE \n",
    "        finno_db.external_id \n",
    "    IS NULL\n",
    "    \"\"\")"
   ]
  },
  {
   "cell_type": "code",
   "execution_count": 20,
   "metadata": {},
   "outputs": [
    {
     "name": "stdout",
     "output_type": "stream",
     "text": [
      "+--------------------+--------------------+-----------+\n",
      "|             user_id|           appboy_id|external_id|\n",
      "+--------------------+--------------------+-----------+\n",
      "|3c36c24c-6449-4c4...|5f80b623aae48f208...|       null|\n",
      "|aa5c7200-b6c8-45b...|5facf8f810b8b576d...|       null|\n",
      "|b80e2701-4a9a-460...|5facf1b3c214fe21d...|       null|\n",
      "|cbe918ee-58f8-489...|5f16c3795601663cf...|       null|\n",
      "|dd515943-f19c-476...|5f205ddc66f58a089...|       null|\n",
      "|e64eec8f-cbcb-4da...|5db41bd4f394563e9...|       null|\n",
      "|6e063d8c-34b1-4a1...|5fa7c63c3f5e09259...|       null|\n",
      "|79a4ff2e-5716-47f...|5f6f86f3b18de16e4...|       null|\n",
      "|83dc491f-0f50-456...|5e8320ae6e835a214...|       null|\n",
      "|5fd9f79c-5e86-4c0...|5e4f807e59ceae37e...|       null|\n",
      "|aac9287f-a8ea-45e...|5e4ba895b092ea27d...|       null|\n",
      "|ad0b82b0-cbfc-499...|5facf95ed2aac869a...|       null|\n",
      "|76af76d3-d3de-44d...|5facddadc49f5c6b1...|       null|\n",
      "|b090bef4-b33a-480...|5e3925a3d4dda012b...|       null|\n",
      "|ba4ba6ed-6fbe-4ed...|5e5501c406bc9a374...|       null|\n",
      "|2be1b7f4-47d1-4a8...|5e948b76597e2653c...|       null|\n",
      "|d21a280c-0a51-48b...|5f87d2281e3c8e469...|       null|\n",
      "|51be9152-36d3-4ea...|5f8413d9b9266e267...|       null|\n",
      "|d3d95805-4bbb-498...|5f363a6e92737e33f...|       null|\n",
      "|74a0cc17-187c-417...|5e8320c769496f16d...|       null|\n",
      "+--------------------+--------------------+-----------+\n",
      "only showing top 20 rows\n",
      "\n"
     ]
    }
   ],
   "source": [
    "diff_2_table.show()"
   ]
  },
  {
   "cell_type": "code",
   "execution_count": 21,
   "metadata": {},
   "outputs": [
    {
     "data": {
      "text/plain": [
       "457"
      ]
     },
     "execution_count": 21,
     "metadata": {},
     "output_type": "execute_result"
    }
   ],
   "source": [
    "diff_2_table.count()"
   ]
  },
  {
   "cell_type": "code",
   "execution_count": 22,
   "metadata": {},
   "outputs": [],
   "source": [
    "columns_to_drop = ['user_id', 'email', 'external_id']\n",
    "df_after_drop_columns = diff_2_table.drop(*columns_to_drop)"
   ]
  },
  {
   "cell_type": "code",
   "execution_count": 23,
   "metadata": {},
   "outputs": [
    {
     "name": "stdout",
     "output_type": "stream",
     "text": [
      "+--------------------+\n",
      "|           appboy_id|\n",
      "+--------------------+\n",
      "|5f80b623aae48f208...|\n",
      "|5facf8f810b8b576d...|\n",
      "|5facf1b3c214fe21d...|\n",
      "|5f16c3795601663cf...|\n",
      "|5f205ddc66f58a089...|\n",
      "|5db41bd4f394563e9...|\n",
      "|5fa7c63c3f5e09259...|\n",
      "|5f6f86f3b18de16e4...|\n",
      "|5e8320ae6e835a214...|\n",
      "|5e4f807e59ceae37e...|\n",
      "|5e4ba895b092ea27d...|\n",
      "|5facf95ed2aac869a...|\n",
      "|5facddadc49f5c6b1...|\n",
      "|5e3925a3d4dda012b...|\n",
      "|5e5501c406bc9a374...|\n",
      "|5e948b76597e2653c...|\n",
      "|5f87d2281e3c8e469...|\n",
      "|5f8413d9b9266e267...|\n",
      "|5f363a6e92737e33f...|\n",
      "|5e8320c769496f16d...|\n",
      "+--------------------+\n",
      "only showing top 20 rows\n",
      "\n"
     ]
    }
   ],
   "source": [
    "df_after_drop_columns.show()"
   ]
  },
  {
   "cell_type": "code",
   "execution_count": 24,
   "metadata": {},
   "outputs": [
    {
     "data": {
      "text/plain": [
       "457"
      ]
     },
     "execution_count": 24,
     "metadata": {},
     "output_type": "execute_result"
    }
   ],
   "source": [
    "df_after_drop_columns.count()"
   ]
  },
  {
   "cell_type": "code",
   "execution_count": 25,
   "metadata": {},
   "outputs": [],
   "source": [
    "df_list_appboy = df_after_drop_columns.toPandas()"
   ]
  },
  {
   "cell_type": "code",
   "execution_count": 26,
   "metadata": {},
   "outputs": [
    {
     "data": {
      "text/html": [
       "<div>\n",
       "<style scoped>\n",
       "    .dataframe tbody tr th:only-of-type {\n",
       "        vertical-align: middle;\n",
       "    }\n",
       "\n",
       "    .dataframe tbody tr th {\n",
       "        vertical-align: top;\n",
       "    }\n",
       "\n",
       "    .dataframe thead th {\n",
       "        text-align: right;\n",
       "    }\n",
       "</style>\n",
       "<table border=\"1\" class=\"dataframe\">\n",
       "  <thead>\n",
       "    <tr style=\"text-align: right;\">\n",
       "      <th></th>\n",
       "      <th>appboy_id</th>\n",
       "    </tr>\n",
       "  </thead>\n",
       "  <tbody>\n",
       "    <tr>\n",
       "      <th>0</th>\n",
       "      <td>5f80b623aae48f20874c6217</td>\n",
       "    </tr>\n",
       "    <tr>\n",
       "      <th>1</th>\n",
       "      <td>5facf8f810b8b576d1166e44</td>\n",
       "    </tr>\n",
       "    <tr>\n",
       "      <th>2</th>\n",
       "      <td>5facf1b3c214fe21d132600c</td>\n",
       "    </tr>\n",
       "    <tr>\n",
       "      <th>3</th>\n",
       "      <td>5f16c3795601663cf778dfcb</td>\n",
       "    </tr>\n",
       "    <tr>\n",
       "      <th>4</th>\n",
       "      <td>5f205ddc66f58a08963ec347</td>\n",
       "    </tr>\n",
       "  </tbody>\n",
       "</table>\n",
       "</div>"
      ],
      "text/plain": [
       "                  appboy_id\n",
       "0  5f80b623aae48f20874c6217\n",
       "1  5facf8f810b8b576d1166e44\n",
       "2  5facf1b3c214fe21d132600c\n",
       "3  5f16c3795601663cf778dfcb\n",
       "4  5f205ddc66f58a08963ec347"
      ]
     },
     "execution_count": 26,
     "metadata": {},
     "output_type": "execute_result"
    }
   ],
   "source": [
    "df_list_appboy.head()"
   ]
  },
  {
   "cell_type": "code",
   "execution_count": 27,
   "metadata": {},
   "outputs": [],
   "source": [
    "df_list_appboy.to_csv(\"df_list_appboy_result.csv\")"
   ]
  },
  {
   "cell_type": "code",
   "execution_count": null,
   "metadata": {},
   "outputs": [],
   "source": []
  }
 ],
 "metadata": {
  "kernelspec": {
   "display_name": "Python 3",
   "language": "python",
   "name": "python3"
  },
  "language_info": {
   "codemirror_mode": {
    "name": "ipython",
    "version": 3
   },
   "file_extension": ".py",
   "mimetype": "text/x-python",
   "name": "python",
   "nbconvert_exporter": "python",
   "pygments_lexer": "ipython3",
   "version": "3.8.6"
  }
 },
 "nbformat": 4,
 "nbformat_minor": 4
}
