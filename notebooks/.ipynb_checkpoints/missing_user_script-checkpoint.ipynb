{
 "cells": [
  {
   "cell_type": "code",
   "execution_count": 1,
   "metadata": {},
   "outputs": [],
   "source": [
    "import pandas as pd"
   ]
  },
  {
   "cell_type": "code",
   "execution_count": 2,
   "metadata": {},
   "outputs": [
    {
     "data": {
      "text/plain": [
       "<module 'pandas' from '/opt/conda/lib/python3.8/site-packages/pandas/__init__.py'>"
      ]
     },
     "execution_count": 2,
     "metadata": {},
     "output_type": "execute_result"
    }
   ],
   "source": [
    "pd"
   ]
  },
  {
   "cell_type": "code",
   "execution_count": 3,
   "metadata": {},
   "outputs": [],
   "source": [
    "df_finno_external_id = pd.read_csv(\"query_result.csv\")"
   ]
  },
  {
   "cell_type": "code",
   "execution_count": 4,
   "metadata": {},
   "outputs": [
    {
     "data": {
      "text/html": [
       "<div>\n",
       "<style scoped>\n",
       "    .dataframe tbody tr th:only-of-type {\n",
       "        vertical-align: middle;\n",
       "    }\n",
       "\n",
       "    .dataframe tbody tr th {\n",
       "        vertical-align: top;\n",
       "    }\n",
       "\n",
       "    .dataframe thead th {\n",
       "        text-align: right;\n",
       "    }\n",
       "</style>\n",
       "<table border=\"1\" class=\"dataframe\">\n",
       "  <thead>\n",
       "    <tr style=\"text-align: right;\">\n",
       "      <th></th>\n",
       "      <th>external_id</th>\n",
       "    </tr>\n",
       "  </thead>\n",
       "  <tbody>\n",
       "    <tr>\n",
       "      <th>0</th>\n",
       "      <td>fffeb70a-9ea3-4965-93eb-3494dabbc41f</td>\n",
       "    </tr>\n",
       "    <tr>\n",
       "      <th>1</th>\n",
       "      <td>fffea142-2e9b-47bf-8a3f-24dfe94d7ad9</td>\n",
       "    </tr>\n",
       "    <tr>\n",
       "      <th>2</th>\n",
       "      <td>fffe8465-ce54-4164-bd4b-a079df1a148c</td>\n",
       "    </tr>\n",
       "    <tr>\n",
       "      <th>3</th>\n",
       "      <td>fffe6d43-a7d4-4a9c-a405-1498f9e09faf</td>\n",
       "    </tr>\n",
       "    <tr>\n",
       "      <th>4</th>\n",
       "      <td>fffdf820-f1fb-438b-92d4-91b8ea7b0dfd</td>\n",
       "    </tr>\n",
       "  </tbody>\n",
       "</table>\n",
       "</div>"
      ],
      "text/plain": [
       "                            external_id\n",
       "0  fffeb70a-9ea3-4965-93eb-3494dabbc41f\n",
       "1  fffea142-2e9b-47bf-8a3f-24dfe94d7ad9\n",
       "2  fffe8465-ce54-4164-bd4b-a079df1a148c\n",
       "3  fffe6d43-a7d4-4a9c-a405-1498f9e09faf\n",
       "4  fffdf820-f1fb-438b-92d4-91b8ea7b0dfd"
      ]
     },
     "execution_count": 4,
     "metadata": {},
     "output_type": "execute_result"
    }
   ],
   "source": [
    "df_finno_external_id.head()"
   ]
  },
  {
   "cell_type": "code",
   "execution_count": 5,
   "metadata": {},
   "outputs": [
    {
     "data": {
      "text/html": [
       "<div>\n",
       "<style scoped>\n",
       "    .dataframe tbody tr th:only-of-type {\n",
       "        vertical-align: middle;\n",
       "    }\n",
       "\n",
       "    .dataframe tbody tr th {\n",
       "        vertical-align: top;\n",
       "    }\n",
       "\n",
       "    .dataframe thead th {\n",
       "        text-align: right;\n",
       "    }\n",
       "</style>\n",
       "<table border=\"1\" class=\"dataframe\">\n",
       "  <thead>\n",
       "    <tr style=\"text-align: right;\">\n",
       "      <th></th>\n",
       "      <th>user_id</th>\n",
       "      <th>timezone</th>\n",
       "      <th>email</th>\n",
       "      <th>session_count</th>\n",
       "      <th>first_session</th>\n",
       "      <th>last_session</th>\n",
       "      <th>last_app_version_used</th>\n",
       "      <th>in_app_purchase_total</th>\n",
       "      <th>unsubscribed_from_emails_at</th>\n",
       "      <th>devices</th>\n",
       "      <th>Appboy ID</th>\n",
       "      <th>created_at</th>\n",
       "    </tr>\n",
       "  </thead>\n",
       "  <tbody>\n",
       "    <tr>\n",
       "      <th>0</th>\n",
       "      <td>84e24e4f-6992-45ed-b815-0b10c6657ec3</td>\n",
       "      <td>Asia/Bangkok</td>\n",
       "      <td>phitchaphon88@gmail.com</td>\n",
       "      <td>3</td>\n",
       "      <td>2020-05-27 17:13:06 UTC</td>\n",
       "      <td>2020-05-29 04:11:35 UTC</td>\n",
       "      <td>NaN</td>\n",
       "      <td>0.0</td>\n",
       "      <td>NaN</td>\n",
       "      <td>Mac (768x1024) - unknown_carrier</td>\n",
       "      <td>5ece9df0597e266c2d2bb076</td>\n",
       "      <td>2020-05-27 17:05:52 UTC</td>\n",
       "    </tr>\n",
       "    <tr>\n",
       "      <th>1</th>\n",
       "      <td>340e3b60-6c6e-4fa9-b3e3-f61058741ccb</td>\n",
       "      <td>NaN</td>\n",
       "      <td>nattakran_752@hotmail.com</td>\n",
       "      <td>0</td>\n",
       "      <td>NaN</td>\n",
       "      <td>NaN</td>\n",
       "      <td>NaN</td>\n",
       "      <td>0.0</td>\n",
       "      <td>NaN</td>\n",
       "      <td>NaN</td>\n",
       "      <td>5da87c093d87b56f4219e7a8</td>\n",
       "      <td>2019-10-17 14:34:49 UTC</td>\n",
       "    </tr>\n",
       "    <tr>\n",
       "      <th>2</th>\n",
       "      <td>feb14097-43b4-478f-968d-929639ccf551</td>\n",
       "      <td>Asia/Bangkok</td>\n",
       "      <td>net_neta@hotmail.com</td>\n",
       "      <td>5</td>\n",
       "      <td>2020-05-14 16:47:56 UTC</td>\n",
       "      <td>2020-06-02 19:27:34 UTC</td>\n",
       "      <td>NaN</td>\n",
       "      <td>0.0</td>\n",
       "      <td>NaN</td>\n",
       "      <td>iOS (375x667) - unknown_carrier, iOS (375x667)...</td>\n",
       "      <td>5ebd760d72203b38eb1b5956</td>\n",
       "      <td>2020-05-14 16:47:09 UTC</td>\n",
       "    </tr>\n",
       "    <tr>\n",
       "      <th>3</th>\n",
       "      <td>08998e5b-0e99-4684-9211-874dfde6c6dc</td>\n",
       "      <td>Asia/Bangkok</td>\n",
       "      <td>marscheeny@hotmail.com</td>\n",
       "      <td>1</td>\n",
       "      <td>2020-04-11 08:06:42 UTC</td>\n",
       "      <td>2020-04-11 08:06:42 UTC</td>\n",
       "      <td>NaN</td>\n",
       "      <td>0.0</td>\n",
       "      <td>NaN</td>\n",
       "      <td>iOS (375x812) - unknown_carrier</td>\n",
       "      <td>5e917a8036cbbc7c4f620d76</td>\n",
       "      <td>2020-04-11 08:06:24 UTC</td>\n",
       "    </tr>\n",
       "    <tr>\n",
       "      <th>4</th>\n",
       "      <td>NaN</td>\n",
       "      <td>Asia/Bangkok</td>\n",
       "      <td>NaN</td>\n",
       "      <td>1</td>\n",
       "      <td>2020-08-17 00:58:08 UTC</td>\n",
       "      <td>2020-08-17 00:58:08 UTC</td>\n",
       "      <td>3.6.2</td>\n",
       "      <td>0.0</td>\n",
       "      <td>NaN</td>\n",
       "      <td>DUB-LX2 Android (O) (720x1440) - TogetherStaySafe</td>\n",
       "      <td>5f39d620e178e46b10659660</td>\n",
       "      <td>2020-08-17 00:58:08 UTC</td>\n",
       "    </tr>\n",
       "  </tbody>\n",
       "</table>\n",
       "</div>"
      ],
      "text/plain": [
       "                                user_id      timezone  \\\n",
       "0  84e24e4f-6992-45ed-b815-0b10c6657ec3  Asia/Bangkok   \n",
       "1  340e3b60-6c6e-4fa9-b3e3-f61058741ccb           NaN   \n",
       "2  feb14097-43b4-478f-968d-929639ccf551  Asia/Bangkok   \n",
       "3  08998e5b-0e99-4684-9211-874dfde6c6dc  Asia/Bangkok   \n",
       "4                                   NaN  Asia/Bangkok   \n",
       "\n",
       "                       email  session_count            first_session  \\\n",
       "0    phitchaphon88@gmail.com              3  2020-05-27 17:13:06 UTC   \n",
       "1  nattakran_752@hotmail.com              0                      NaN   \n",
       "2       net_neta@hotmail.com              5  2020-05-14 16:47:56 UTC   \n",
       "3     marscheeny@hotmail.com              1  2020-04-11 08:06:42 UTC   \n",
       "4                        NaN              1  2020-08-17 00:58:08 UTC   \n",
       "\n",
       "              last_session last_app_version_used  in_app_purchase_total  \\\n",
       "0  2020-05-29 04:11:35 UTC                   NaN                    0.0   \n",
       "1                      NaN                   NaN                    0.0   \n",
       "2  2020-06-02 19:27:34 UTC                   NaN                    0.0   \n",
       "3  2020-04-11 08:06:42 UTC                   NaN                    0.0   \n",
       "4  2020-08-17 00:58:08 UTC                 3.6.2                    0.0   \n",
       "\n",
       "  unsubscribed_from_emails_at  \\\n",
       "0                         NaN   \n",
       "1                         NaN   \n",
       "2                         NaN   \n",
       "3                         NaN   \n",
       "4                         NaN   \n",
       "\n",
       "                                             devices  \\\n",
       "0                   Mac (768x1024) - unknown_carrier   \n",
       "1                                                NaN   \n",
       "2  iOS (375x667) - unknown_carrier, iOS (375x667)...   \n",
       "3                    iOS (375x812) - unknown_carrier   \n",
       "4  DUB-LX2 Android (O) (720x1440) - TogetherStaySafe   \n",
       "\n",
       "                  Appboy ID               created_at  \n",
       "0  5ece9df0597e266c2d2bb076  2020-05-27 17:05:52 UTC  \n",
       "1  5da87c093d87b56f4219e7a8  2019-10-17 14:34:49 UTC  \n",
       "2  5ebd760d72203b38eb1b5956  2020-05-14 16:47:09 UTC  \n",
       "3  5e917a8036cbbc7c4f620d76  2020-04-11 08:06:24 UTC  \n",
       "4  5f39d620e178e46b10659660  2020-08-17 00:58:08 UTC  "
      ]
     },
     "execution_count": 5,
     "metadata": {},
     "output_type": "execute_result"
    }
   ],
   "source": [
    "df_braze = pd.read_csv(\"braze.csv\")\n",
    "df_braze.head()\n",
    "\n",
    "# df_braze.fillna(\"null\")\n",
    "# df_braze.dropna()"
   ]
  },
  {
   "cell_type": "code",
   "execution_count": 6,
   "metadata": {},
   "outputs": [
    {
     "data": {
      "text/html": [
       "<div>\n",
       "<style scoped>\n",
       "    .dataframe tbody tr th:only-of-type {\n",
       "        vertical-align: middle;\n",
       "    }\n",
       "\n",
       "    .dataframe tbody tr th {\n",
       "        vertical-align: top;\n",
       "    }\n",
       "\n",
       "    .dataframe thead th {\n",
       "        text-align: right;\n",
       "    }\n",
       "</style>\n",
       "<table border=\"1\" class=\"dataframe\">\n",
       "  <thead>\n",
       "    <tr style=\"text-align: right;\">\n",
       "      <th></th>\n",
       "      <th>user_id</th>\n",
       "      <th>timezone</th>\n",
       "      <th>email</th>\n",
       "      <th>session_count</th>\n",
       "      <th>first_session</th>\n",
       "      <th>last_session</th>\n",
       "      <th>last_app_version_used</th>\n",
       "      <th>in_app_purchase_total</th>\n",
       "      <th>unsubscribed_from_emails_at</th>\n",
       "      <th>devices</th>\n",
       "      <th>Appboy ID</th>\n",
       "      <th>created_at</th>\n",
       "    </tr>\n",
       "  </thead>\n",
       "  <tbody>\n",
       "    <tr>\n",
       "      <th>4</th>\n",
       "      <td>NaN</td>\n",
       "      <td>Asia/Bangkok</td>\n",
       "      <td>NaN</td>\n",
       "      <td>1</td>\n",
       "      <td>2020-08-17 00:58:08 UTC</td>\n",
       "      <td>2020-08-17 00:58:08 UTC</td>\n",
       "      <td>3.6.2</td>\n",
       "      <td>0.0</td>\n",
       "      <td>NaN</td>\n",
       "      <td>DUB-LX2 Android (O) (720x1440) - TogetherStaySafe</td>\n",
       "      <td>5f39d620e178e46b10659660</td>\n",
       "      <td>2020-08-17 00:58:08 UTC</td>\n",
       "    </tr>\n",
       "    <tr>\n",
       "      <th>8</th>\n",
       "      <td>NaN</td>\n",
       "      <td>Asia/Bangkok</td>\n",
       "      <td>NaN</td>\n",
       "      <td>4</td>\n",
       "      <td>2020-07-17 12:16:30 UTC</td>\n",
       "      <td>2020-10-08 19:24:18 UTC</td>\n",
       "      <td>3.6.5</td>\n",
       "      <td>0.0</td>\n",
       "      <td>NaN</td>\n",
       "      <td>Infinix X609B Android (O) (720x1344) - AIS</td>\n",
       "      <td>5f2e589f8e57b466d4d6a2a7</td>\n",
       "      <td>2020-08-08 07:47:43 UTC</td>\n",
       "    </tr>\n",
       "    <tr>\n",
       "      <th>10</th>\n",
       "      <td>NaN</td>\n",
       "      <td>Asia/Bangkok</td>\n",
       "      <td>NaN</td>\n",
       "      <td>1</td>\n",
       "      <td>2020-10-22 06:30:51 UTC</td>\n",
       "      <td>2020-10-22 06:30:51 UTC</td>\n",
       "      <td>4.0.0</td>\n",
       "      <td>0.0</td>\n",
       "      <td>NaN</td>\n",
       "      <td>CLT-L29 Android (Q) (1080x2037) - TRUE-H</td>\n",
       "      <td>5ea6838ed5bd4b65d1cc3c92</td>\n",
       "      <td>2020-04-27 07:02:38 UTC</td>\n",
       "    </tr>\n",
       "    <tr>\n",
       "      <th>12</th>\n",
       "      <td>NaN</td>\n",
       "      <td>Asia/Bangkok</td>\n",
       "      <td>NaN</td>\n",
       "      <td>3</td>\n",
       "      <td>2020-11-04 06:51:49 UTC</td>\n",
       "      <td>2020-11-04 06:52:46 UTC</td>\n",
       "      <td>4.0.1</td>\n",
       "      <td>0.0</td>\n",
       "      <td>NaN</td>\n",
       "      <td>iPhone 11 Pro 14.1 (1125x2436) - AIS</td>\n",
       "      <td>5fa24f85e2b56372d02dff4d</td>\n",
       "      <td>2020-11-04 06:51:49 UTC</td>\n",
       "    </tr>\n",
       "    <tr>\n",
       "      <th>13</th>\n",
       "      <td>NaN</td>\n",
       "      <td>Asia/Bangkok</td>\n",
       "      <td>NaN</td>\n",
       "      <td>5</td>\n",
       "      <td>2020-09-17 05:37:31 UTC</td>\n",
       "      <td>2020-09-28 06:36:29 UTC</td>\n",
       "      <td>3.6.4</td>\n",
       "      <td>0.0</td>\n",
       "      <td>NaN</td>\n",
       "      <td>DUB-LX2 Android (O) (720x1440) - AIS</td>\n",
       "      <td>5f62f61bf8981c42f00ce63b</td>\n",
       "      <td>2020-09-17 05:37:31 UTC</td>\n",
       "    </tr>\n",
       "  </tbody>\n",
       "</table>\n",
       "</div>"
      ],
      "text/plain": [
       "   user_id      timezone email  session_count            first_session  \\\n",
       "4      NaN  Asia/Bangkok   NaN              1  2020-08-17 00:58:08 UTC   \n",
       "8      NaN  Asia/Bangkok   NaN              4  2020-07-17 12:16:30 UTC   \n",
       "10     NaN  Asia/Bangkok   NaN              1  2020-10-22 06:30:51 UTC   \n",
       "12     NaN  Asia/Bangkok   NaN              3  2020-11-04 06:51:49 UTC   \n",
       "13     NaN  Asia/Bangkok   NaN              5  2020-09-17 05:37:31 UTC   \n",
       "\n",
       "               last_session last_app_version_used  in_app_purchase_total  \\\n",
       "4   2020-08-17 00:58:08 UTC                 3.6.2                    0.0   \n",
       "8   2020-10-08 19:24:18 UTC                 3.6.5                    0.0   \n",
       "10  2020-10-22 06:30:51 UTC                 4.0.0                    0.0   \n",
       "12  2020-11-04 06:52:46 UTC                 4.0.1                    0.0   \n",
       "13  2020-09-28 06:36:29 UTC                 3.6.4                    0.0   \n",
       "\n",
       "   unsubscribed_from_emails_at  \\\n",
       "4                          NaN   \n",
       "8                          NaN   \n",
       "10                         NaN   \n",
       "12                         NaN   \n",
       "13                         NaN   \n",
       "\n",
       "                                              devices  \\\n",
       "4   DUB-LX2 Android (O) (720x1440) - TogetherStaySafe   \n",
       "8          Infinix X609B Android (O) (720x1344) - AIS   \n",
       "10           CLT-L29 Android (Q) (1080x2037) - TRUE-H   \n",
       "12               iPhone 11 Pro 14.1 (1125x2436) - AIS   \n",
       "13               DUB-LX2 Android (O) (720x1440) - AIS   \n",
       "\n",
       "                   Appboy ID               created_at  \n",
       "4   5f39d620e178e46b10659660  2020-08-17 00:58:08 UTC  \n",
       "8   5f2e589f8e57b466d4d6a2a7  2020-08-08 07:47:43 UTC  \n",
       "10  5ea6838ed5bd4b65d1cc3c92  2020-04-27 07:02:38 UTC  \n",
       "12  5fa24f85e2b56372d02dff4d  2020-11-04 06:51:49 UTC  \n",
       "13  5f62f61bf8981c42f00ce63b  2020-09-17 05:37:31 UTC  "
      ]
     },
     "execution_count": 6,
     "metadata": {},
     "output_type": "execute_result"
    }
   ],
   "source": [
    "df_braze_null_user_id = df_braze[df_braze['user_id'].isnull()]\n",
    "df_braze_null_user_id.head()"
   ]
  },
  {
   "cell_type": "code",
   "execution_count": 9,
   "metadata": {},
   "outputs": [
    {
     "data": {
      "text/html": [
       "<div>\n",
       "<style scoped>\n",
       "    .dataframe tbody tr th:only-of-type {\n",
       "        vertical-align: middle;\n",
       "    }\n",
       "\n",
       "    .dataframe tbody tr th {\n",
       "        vertical-align: top;\n",
       "    }\n",
       "\n",
       "    .dataframe thead th {\n",
       "        text-align: right;\n",
       "    }\n",
       "</style>\n",
       "<table border=\"1\" class=\"dataframe\">\n",
       "  <thead>\n",
       "    <tr style=\"text-align: right;\">\n",
       "      <th></th>\n",
       "      <th>Appboy ID</th>\n",
       "    </tr>\n",
       "  </thead>\n",
       "  <tbody>\n",
       "    <tr>\n",
       "      <th>4</th>\n",
       "      <td>5f39d620e178e46b10659660</td>\n",
       "    </tr>\n",
       "    <tr>\n",
       "      <th>8</th>\n",
       "      <td>5f2e589f8e57b466d4d6a2a7</td>\n",
       "    </tr>\n",
       "    <tr>\n",
       "      <th>10</th>\n",
       "      <td>5ea6838ed5bd4b65d1cc3c92</td>\n",
       "    </tr>\n",
       "    <tr>\n",
       "      <th>12</th>\n",
       "      <td>5fa24f85e2b56372d02dff4d</td>\n",
       "    </tr>\n",
       "    <tr>\n",
       "      <th>13</th>\n",
       "      <td>5f62f61bf8981c42f00ce63b</td>\n",
       "    </tr>\n",
       "  </tbody>\n",
       "</table>\n",
       "</div>"
      ],
      "text/plain": [
       "                   Appboy ID\n",
       "4   5f39d620e178e46b10659660\n",
       "8   5f2e589f8e57b466d4d6a2a7\n",
       "10  5ea6838ed5bd4b65d1cc3c92\n",
       "12  5fa24f85e2b56372d02dff4d\n",
       "13  5f62f61bf8981c42f00ce63b"
      ]
     },
     "execution_count": 9,
     "metadata": {},
     "output_type": "execute_result"
    }
   ],
   "source": [
    "# df_braze_null_user_id.drop(['user_id', 'timezone', 'email', 'session_count', 'first_session', 'last_session', 'last_app_version_used', 'in_app_purchase_total', 'unsubscribed_from_emails_at', 'devices', 'created_at'], inplace=True, axis=1)\n",
    "df_braze_null_user_id.head()\n",
    "# df_braze_null_user_id.to_csv(\"df_braze_null_external_id.csv\")"
   ]
  },
  {
   "cell_type": "code",
   "execution_count": 10,
   "metadata": {},
   "outputs": [],
   "source": [
    "df_braze = df_braze.dropna()\n",
    "# df_braze.head()"
   ]
  },
  {
   "cell_type": "code",
   "execution_count": 11,
   "metadata": {},
   "outputs": [],
   "source": [
    "import pyspark\n",
    "\n",
    "spark = pyspark.sql.SparkSession.builder\\\n",
    "    .appName('braze-intigrity')\\\n",
    "    .getOrCreate()\n"
   ]
  },
  {
   "cell_type": "code",
   "execution_count": 12,
   "metadata": {},
   "outputs": [],
   "source": [
    "df_spark_braze = spark.createDataFrame(df_braze)"
   ]
  },
  {
   "cell_type": "code",
   "execution_count": 13,
   "metadata": {},
   "outputs": [
    {
     "name": "stdout",
     "output_type": "stream",
     "text": [
      "+--------------------+-------------------+--------------------+-------------+--------------------+--------------------+---------------------+---------------------+---------------------------+--------------------+--------------------+--------------------+\n",
      "|             user_id|           timezone|               email|session_count|       first_session|        last_session|last_app_version_used|in_app_purchase_total|unsubscribed_from_emails_at|             devices|           Appboy ID|          created_at|\n",
      "+--------------------+-------------------+--------------------+-------------+--------------------+--------------------+---------------------+---------------------+---------------------------+--------------------+--------------------+--------------------+\n",
      "|cf08bde5-d3a5-488...|       Asia/Bangkok|ppnathawut@gmail.com|           20|2020-01-09 00:16:...|2020-04-15 12:07:...|                3.3.4|                  0.0|       2019-10-18 05:29:...|SM-N9750 Android ...|5da87ad8fb965a064...|2019-10-17 14:29:...|\n",
      "|10d7c6a5-4642-4bc...|Australia/Melbourne|mthipphawan@gmail...|            3|2020-04-29 12:24:...|2020-04-29 12:41:...|                3.4.2|                  0.0|       2020-05-01 01:11:...|iOS (414x736) - u...|5ea971af2a584f17c...|2020-04-29 12:23:...|\n",
      "|7445869a-4a9c-49e...|       Asia/Bangkok|krisorn.ph@gmail.com|           21|2020-02-26 04:41:...|2020-04-02 12:02:...|                3.3.1|                  0.0|       2019-10-18 05:28:...|Mac (1440x900) - ...|5da87a24ec5c49548...|2019-10-17 14:26:...|\n",
      "|e63dfb08-7ab9-430...|       Asia/Bangkok|jab.weerabhat@gma...|          344|2020-03-22 17:23:...|2020-11-12 04:51:...|                4.0.4|                  0.0|       2020-04-06 11:32:...|LYA-L29 Android (...|5e779f1f83c86e417...|2020-03-22 17:23:...|\n",
      "|c288e100-4153-43f...|       Asia/Bangkok|wongsakorn.suksir...|           34|2020-01-29 01:22:...|2020-07-18 01:48:...|                3.4.2|                  0.0|       2020-01-28 16:23:...|Nokia 9 Android (...|5e305fb56758b97ea...|2020-01-28 16:22:...|\n",
      "|202efb34-1c43-4a3...|       Asia/Bangkok|somchusin@hotmail...|            1|2020-01-06 11:27:...|2020-01-06 11:27:...|                3.0.5|                  0.0|       2019-10-18 05:26:...|iPad Pro 13.2.2 (...|5da87a1b9a98ca393...|2019-10-17 14:26:...|\n",
      "|5927f61f-7ee7-448...|       Asia/Bangkok| kasem@trueclick.net|            2|2020-02-07 05:32:...|2020-02-13 12:11:...|                3.2.1|                  0.0|       2020-02-14 07:09:...|SM-G770F Android ...|5e3cf6708345d6295...|2020-02-07 05:32:...|\n",
      "|6d9a483d-941a-45a...|       Asia/Bangkok|templar567@yahoo.com|            5|2020-10-29 16:31:...|2020-10-29 16:42:...|                4.0.1|                  0.0|       2019-10-18 05:28:...|iPhone SE 13.7 (6...|5da879b14192f0066...|2019-10-17 14:24:...|\n",
      "|984e4ee5-9948-4bd...|       Asia/Bangkok|taymeechai@hotmai...|          111|2020-02-19 02:29:...|2020-11-04 15:36:...|                4.0.4|                  0.0|       2019-10-18 05:28:...|Redmi K20 Pro Pre...|5da87bc50db8e95ca...|2019-10-17 14:33:...|\n",
      "|e2caef38-a0dd-4e6...|       Asia/Bangkok|minato_no@hotmail...|            6|2020-01-09 10:54:...|2020-04-02 12:02:...|                3.3.1|                  0.0|       2019-10-18 05:28:...|PAR-LX9 Android (...|5da87beaaecd261a7...|2019-10-17 14:34:...|\n",
      "|8aca85c8-6d41-4a4...|       Asia/Bangkok|peachkub_29@hotma...|           10|2020-02-13 03:54:...|2020-03-13 08:30:...|                3.2.1|                  0.0|       2020-02-14 04:15:...|LYA-L29 Android (...|5e44c866fb81f1342...|2020-02-13 03:54:...|\n",
      "|d7536f12-72bb-4cb...|       Asia/Bangkok|  sompoj_p@yahoo.com|          553|2019-10-24 04:16:...|2020-11-11 15:13:...|                4.0.2|                  0.0|       2019-10-18 05:26:...|Windows (1600x900...|5da879aa2a17e04a6...|2019-10-17 14:24:...|\n",
      "|f6aa0c2c-947f-4fc...|       Asia/Bangkok|somchuwave@gmail.com|           19|2020-01-12 10:36:...|2020-10-05 16:23:...|                3.6.5|                  0.0|       2019-10-18 05:28:...|SM-N950F Android ...|5da87899521ab2293...|2019-10-17 14:20:...|\n",
      "|bbf488eb-c68e-494...|       Asia/Bangkok|   h98261e@gmail.com|            6|2020-03-20 18:35:...|2020-04-27 13:59:...|                3.3.6|                  0.0|       2020-03-22 04:28:...|Android (393x851)...|5e750c8af25d61719...|2020-03-20 18:33:...|\n",
      "|5b96eb2f-a802-49f...|       Asia/Bangkok|    nuupan@gmail.com|           81|2019-10-31 04:48:...|2020-10-11 02:47:...|                3.9.0|                  0.0|       2019-10-18 05:30:...|Mac (834x1112) - ...|5dba67748b4a167e2...|2019-10-31 04:47:...|\n",
      "|77c6bc2d-0c05-4d6...|       Asia/Bangkok|zatera1920@gmail.com|          469|2019-11-07 13:45:...|2020-11-09 11:10:...|                4.0.2|                  0.0|       2019-10-18 05:28:...|iOS (768x1024) - ...|5da87d4c92e7b0576...|2019-10-17 14:40:...|\n",
      "|f0637387-3a29-477...|       Asia/Bangkok|sompongsansuk@yah...|            2|2020-03-01 18:55:...|2020-03-24 08:18:...|                3.3.0|                  0.0|       2020-03-07 06:37:...|JKM-LX2 Android (...|5e5c052a8d27bd794...|2020-03-01 18:55:...|\n",
      "|8c3de7a0-016c-446...|       Asia/Bangkok|ruoma_lovely@hotm...|            1|2020-03-20 15:55:...|2020-03-20 15:55:...|                3.4.0|                  0.0|       2019-10-18 05:27:...|iPad Pro 13.3.1 (...|5da87b36ec5c495da...|2019-10-17 14:31:...|\n",
      "|dc8f7911-c0cc-416...|       Asia/Bangkok|odyssey8832@gmail...|           23|2020-03-18 08:11:...|2020-10-20 08:32:...|                4.0.0|                  0.0|       2019-10-18 05:26:...|SM-A305F Android ...|5da87ae22a17e053c...|2019-10-17 14:29:...|\n",
      "|256fb307-c3c4-4ff...|       Asia/Bangkok| lnpeace.m@gmail.com|           31|2020-01-16 11:47:...|2020-03-16 20:56:...|                3.3.2|                  0.0|       2019-10-18 05:28:...|iPhone 11 Pro 13....|5da87a835cf7532a2...|2019-10-17 14:28:...|\n",
      "+--------------------+-------------------+--------------------+-------------+--------------------+--------------------+---------------------+---------------------+---------------------------+--------------------+--------------------+--------------------+\n",
      "only showing top 20 rows\n",
      "\n"
     ]
    }
   ],
   "source": [
    "df_spark_braze.show()\n",
    "# df_braze.count()"
   ]
  },
  {
   "cell_type": "code",
   "execution_count": 14,
   "metadata": {},
   "outputs": [],
   "source": [
    "# Register the DataFrame as a SQL temporary view\n",
    "df_spark_braze.createOrReplaceTempView(\"braze_db\")"
   ]
  },
  {
   "cell_type": "code",
   "execution_count": 15,
   "metadata": {},
   "outputs": [],
   "source": [
    "sqlBraze = spark.sql(\"SELECT * FROM braze_db\")"
   ]
  },
  {
   "cell_type": "code",
   "execution_count": 16,
   "metadata": {},
   "outputs": [
    {
     "name": "stdout",
     "output_type": "stream",
     "text": [
      "+--------------------+-------------------+--------------------+-------------+--------------------+--------------------+---------------------+---------------------+---------------------------+--------------------+--------------------+--------------------+\n",
      "|             user_id|           timezone|               email|session_count|       first_session|        last_session|last_app_version_used|in_app_purchase_total|unsubscribed_from_emails_at|             devices|           Appboy ID|          created_at|\n",
      "+--------------------+-------------------+--------------------+-------------+--------------------+--------------------+---------------------+---------------------+---------------------------+--------------------+--------------------+--------------------+\n",
      "|cf08bde5-d3a5-488...|       Asia/Bangkok|ppnathawut@gmail.com|           20|2020-01-09 00:16:...|2020-04-15 12:07:...|                3.3.4|                  0.0|       2019-10-18 05:29:...|SM-N9750 Android ...|5da87ad8fb965a064...|2019-10-17 14:29:...|\n",
      "|10d7c6a5-4642-4bc...|Australia/Melbourne|mthipphawan@gmail...|            3|2020-04-29 12:24:...|2020-04-29 12:41:...|                3.4.2|                  0.0|       2020-05-01 01:11:...|iOS (414x736) - u...|5ea971af2a584f17c...|2020-04-29 12:23:...|\n",
      "|7445869a-4a9c-49e...|       Asia/Bangkok|krisorn.ph@gmail.com|           21|2020-02-26 04:41:...|2020-04-02 12:02:...|                3.3.1|                  0.0|       2019-10-18 05:28:...|Mac (1440x900) - ...|5da87a24ec5c49548...|2019-10-17 14:26:...|\n",
      "|e63dfb08-7ab9-430...|       Asia/Bangkok|jab.weerabhat@gma...|          344|2020-03-22 17:23:...|2020-11-12 04:51:...|                4.0.4|                  0.0|       2020-04-06 11:32:...|LYA-L29 Android (...|5e779f1f83c86e417...|2020-03-22 17:23:...|\n",
      "|c288e100-4153-43f...|       Asia/Bangkok|wongsakorn.suksir...|           34|2020-01-29 01:22:...|2020-07-18 01:48:...|                3.4.2|                  0.0|       2020-01-28 16:23:...|Nokia 9 Android (...|5e305fb56758b97ea...|2020-01-28 16:22:...|\n",
      "|202efb34-1c43-4a3...|       Asia/Bangkok|somchusin@hotmail...|            1|2020-01-06 11:27:...|2020-01-06 11:27:...|                3.0.5|                  0.0|       2019-10-18 05:26:...|iPad Pro 13.2.2 (...|5da87a1b9a98ca393...|2019-10-17 14:26:...|\n",
      "|5927f61f-7ee7-448...|       Asia/Bangkok| kasem@trueclick.net|            2|2020-02-07 05:32:...|2020-02-13 12:11:...|                3.2.1|                  0.0|       2020-02-14 07:09:...|SM-G770F Android ...|5e3cf6708345d6295...|2020-02-07 05:32:...|\n",
      "|6d9a483d-941a-45a...|       Asia/Bangkok|templar567@yahoo.com|            5|2020-10-29 16:31:...|2020-10-29 16:42:...|                4.0.1|                  0.0|       2019-10-18 05:28:...|iPhone SE 13.7 (6...|5da879b14192f0066...|2019-10-17 14:24:...|\n",
      "|984e4ee5-9948-4bd...|       Asia/Bangkok|taymeechai@hotmai...|          111|2020-02-19 02:29:...|2020-11-04 15:36:...|                4.0.4|                  0.0|       2019-10-18 05:28:...|Redmi K20 Pro Pre...|5da87bc50db8e95ca...|2019-10-17 14:33:...|\n",
      "|e2caef38-a0dd-4e6...|       Asia/Bangkok|minato_no@hotmail...|            6|2020-01-09 10:54:...|2020-04-02 12:02:...|                3.3.1|                  0.0|       2019-10-18 05:28:...|PAR-LX9 Android (...|5da87beaaecd261a7...|2019-10-17 14:34:...|\n",
      "|8aca85c8-6d41-4a4...|       Asia/Bangkok|peachkub_29@hotma...|           10|2020-02-13 03:54:...|2020-03-13 08:30:...|                3.2.1|                  0.0|       2020-02-14 04:15:...|LYA-L29 Android (...|5e44c866fb81f1342...|2020-02-13 03:54:...|\n",
      "|d7536f12-72bb-4cb...|       Asia/Bangkok|  sompoj_p@yahoo.com|          553|2019-10-24 04:16:...|2020-11-11 15:13:...|                4.0.2|                  0.0|       2019-10-18 05:26:...|Windows (1600x900...|5da879aa2a17e04a6...|2019-10-17 14:24:...|\n",
      "|f6aa0c2c-947f-4fc...|       Asia/Bangkok|somchuwave@gmail.com|           19|2020-01-12 10:36:...|2020-10-05 16:23:...|                3.6.5|                  0.0|       2019-10-18 05:28:...|SM-N950F Android ...|5da87899521ab2293...|2019-10-17 14:20:...|\n",
      "|bbf488eb-c68e-494...|       Asia/Bangkok|   h98261e@gmail.com|            6|2020-03-20 18:35:...|2020-04-27 13:59:...|                3.3.6|                  0.0|       2020-03-22 04:28:...|Android (393x851)...|5e750c8af25d61719...|2020-03-20 18:33:...|\n",
      "|5b96eb2f-a802-49f...|       Asia/Bangkok|    nuupan@gmail.com|           81|2019-10-31 04:48:...|2020-10-11 02:47:...|                3.9.0|                  0.0|       2019-10-18 05:30:...|Mac (834x1112) - ...|5dba67748b4a167e2...|2019-10-31 04:47:...|\n",
      "|77c6bc2d-0c05-4d6...|       Asia/Bangkok|zatera1920@gmail.com|          469|2019-11-07 13:45:...|2020-11-09 11:10:...|                4.0.2|                  0.0|       2019-10-18 05:28:...|iOS (768x1024) - ...|5da87d4c92e7b0576...|2019-10-17 14:40:...|\n",
      "|f0637387-3a29-477...|       Asia/Bangkok|sompongsansuk@yah...|            2|2020-03-01 18:55:...|2020-03-24 08:18:...|                3.3.0|                  0.0|       2020-03-07 06:37:...|JKM-LX2 Android (...|5e5c052a8d27bd794...|2020-03-01 18:55:...|\n",
      "|8c3de7a0-016c-446...|       Asia/Bangkok|ruoma_lovely@hotm...|            1|2020-03-20 15:55:...|2020-03-20 15:55:...|                3.4.0|                  0.0|       2019-10-18 05:27:...|iPad Pro 13.3.1 (...|5da87b36ec5c495da...|2019-10-17 14:31:...|\n",
      "|dc8f7911-c0cc-416...|       Asia/Bangkok|odyssey8832@gmail...|           23|2020-03-18 08:11:...|2020-10-20 08:32:...|                4.0.0|                  0.0|       2019-10-18 05:26:...|SM-A305F Android ...|5da87ae22a17e053c...|2019-10-17 14:29:...|\n",
      "|256fb307-c3c4-4ff...|       Asia/Bangkok| lnpeace.m@gmail.com|           31|2020-01-16 11:47:...|2020-03-16 20:56:...|                3.3.2|                  0.0|       2019-10-18 05:28:...|iPhone 11 Pro 13....|5da87a835cf7532a2...|2019-10-17 14:28:...|\n",
      "+--------------------+-------------------+--------------------+-------------+--------------------+--------------------+---------------------+---------------------+---------------------------+--------------------+--------------------+--------------------+\n",
      "only showing top 20 rows\n",
      "\n"
     ]
    }
   ],
   "source": [
    "sqlBraze.show()"
   ]
  },
  {
   "cell_type": "code",
   "execution_count": 17,
   "metadata": {},
   "outputs": [
    {
     "name": "stdout",
     "output_type": "stream",
     "text": [
      "+--------------------+\n",
      "|         external_id|\n",
      "+--------------------+\n",
      "|fffeb70a-9ea3-496...|\n",
      "|fffea142-2e9b-47b...|\n",
      "|fffe8465-ce54-416...|\n",
      "|fffe6d43-a7d4-4a9...|\n",
      "|fffdf820-f1fb-438...|\n",
      "|fffdde8c-7a72-4a6...|\n",
      "|fffcce3f-7aba-4ab...|\n",
      "|fffc6917-519a-472...|\n",
      "|fffbed0c-e3b5-4b3...|\n",
      "|fffb0602-935e-471...|\n",
      "|fff9f8fd-d988-406...|\n",
      "|fff9bf67-22b7-459...|\n",
      "|fff9bd98-87f3-472...|\n",
      "|fff91eb2-1918-4f1...|\n",
      "|fff8f6d0-c17d-498...|\n",
      "|fff87cd8-9c6e-486...|\n",
      "|fff8393c-2937-4b1...|\n",
      "|fff7b341-77fb-4cc...|\n",
      "|fff669cf-678f-4d6...|\n",
      "|fff64104-644a-450...|\n",
      "+--------------------+\n",
      "only showing top 20 rows\n",
      "\n"
     ]
    },
    {
     "data": {
      "text/plain": [
       "212957"
      ]
     },
     "execution_count": 17,
     "metadata": {},
     "output_type": "execute_result"
    }
   ],
   "source": [
    "df_finno_external_id = spark.createDataFrame(df_finno_external_id)\n",
    "df_finno_external_id.show()\n",
    "df_finno_external_id.count()"
   ]
  },
  {
   "cell_type": "code",
   "execution_count": 18,
   "metadata": {},
   "outputs": [],
   "source": [
    "# Register the DataFrame as a SQL temporary view\n",
    "df_finno_external_id.createOrReplaceTempView(\"finno_db\")"
   ]
  },
  {
   "cell_type": "code",
   "execution_count": 19,
   "metadata": {},
   "outputs": [],
   "source": [
    "sqlFinno = spark.sql(\"SELECT * FROM finno_db\")"
   ]
  },
  {
   "cell_type": "code",
   "execution_count": 20,
   "metadata": {},
   "outputs": [
    {
     "name": "stdout",
     "output_type": "stream",
     "text": [
      "+--------------------+\n",
      "|         external_id|\n",
      "+--------------------+\n",
      "|fffeb70a-9ea3-496...|\n",
      "|fffea142-2e9b-47b...|\n",
      "|fffe8465-ce54-416...|\n",
      "|fffe6d43-a7d4-4a9...|\n",
      "|fffdf820-f1fb-438...|\n",
      "|fffdde8c-7a72-4a6...|\n",
      "|fffcce3f-7aba-4ab...|\n",
      "|fffc6917-519a-472...|\n",
      "|fffbed0c-e3b5-4b3...|\n",
      "|fffb0602-935e-471...|\n",
      "|fff9f8fd-d988-406...|\n",
      "|fff9bf67-22b7-459...|\n",
      "|fff9bd98-87f3-472...|\n",
      "|fff91eb2-1918-4f1...|\n",
      "|fff8f6d0-c17d-498...|\n",
      "|fff87cd8-9c6e-486...|\n",
      "|fff8393c-2937-4b1...|\n",
      "|fff7b341-77fb-4cc...|\n",
      "|fff669cf-678f-4d6...|\n",
      "|fff64104-644a-450...|\n",
      "+--------------------+\n",
      "only showing top 20 rows\n",
      "\n"
     ]
    }
   ],
   "source": [
    "sqlFinno.show()"
   ]
  },
  {
   "cell_type": "code",
   "execution_count": 23,
   "metadata": {},
   "outputs": [
    {
     "ename": "AnalysisException",
     "evalue": "filter expression 'finno_db.`external_id`' of type string is not a boolean.;;\nProject [user_id#0, timezone#1, email#2, session_count#3L, first_session#4, last_session#5, last_app_version_used#6, in_app_purchase_total#7, unsubscribed_from_emails_at#8, devices#9, Appboy ID#10, created_at#11, external_id#134]\n+- Filter external_id#134: string\n   +- Join LeftOuter, (user_id#0 = external_id#134)\n      :- SubqueryAlias braze_db\n      :  +- LogicalRDD [user_id#0, timezone#1, email#2, session_count#3L, first_session#4, last_session#5, last_app_version_used#6, in_app_purchase_total#7, unsubscribed_from_emails_at#8, devices#9, Appboy ID#10, created_at#11], false\n      +- SubqueryAlias finno_db\n         +- LogicalRDD [external_id#134], false\n",
     "output_type": "error",
     "traceback": [
      "\u001b[0;31m---------------------------------------------------------------------------\u001b[0m",
      "\u001b[0;31mAnalysisException\u001b[0m                         Traceback (most recent call last)",
      "\u001b[0;32m<ipython-input-23-0625fb4a5393>\u001b[0m in \u001b[0;36m<module>\u001b[0;34m\u001b[0m\n\u001b[1;32m      1\u001b[0m \u001b[0;31m# join 2 table df_finno_external_id with df_braze\u001b[0m\u001b[0;34m\u001b[0m\u001b[0;34m\u001b[0m\u001b[0;34m\u001b[0m\u001b[0m\n\u001b[0;32m----> 2\u001b[0;31m diff_2_table = spark.sql(\"\"\"\n\u001b[0m\u001b[1;32m      3\u001b[0m     \u001b[0mSELECT\u001b[0m \u001b[0;34m*\u001b[0m \u001b[0mFROM\u001b[0m\u001b[0;34m\u001b[0m\u001b[0;34m\u001b[0m\u001b[0m\n\u001b[1;32m      4\u001b[0m          \u001b[0mbraze_db\u001b[0m\u001b[0;34m\u001b[0m\u001b[0;34m\u001b[0m\u001b[0m\n\u001b[1;32m      5\u001b[0m     \u001b[0mLEFT\u001b[0m \u001b[0mJOIN\u001b[0m\u001b[0;34m\u001b[0m\u001b[0;34m\u001b[0m\u001b[0m\n",
      "\u001b[0;32m/usr/local/spark/python/pyspark/sql/session.py\u001b[0m in \u001b[0;36msql\u001b[0;34m(self, sqlQuery)\u001b[0m\n\u001b[1;32m    647\u001b[0m         \u001b[0;34m[\u001b[0m\u001b[0mRow\u001b[0m\u001b[0;34m(\u001b[0m\u001b[0mf1\u001b[0m\u001b[0;34m=\u001b[0m\u001b[0;36m1\u001b[0m\u001b[0;34m,\u001b[0m \u001b[0mf2\u001b[0m\u001b[0;34m=\u001b[0m\u001b[0;34mu'row1'\u001b[0m\u001b[0;34m)\u001b[0m\u001b[0;34m,\u001b[0m \u001b[0mRow\u001b[0m\u001b[0;34m(\u001b[0m\u001b[0mf1\u001b[0m\u001b[0;34m=\u001b[0m\u001b[0;36m2\u001b[0m\u001b[0;34m,\u001b[0m \u001b[0mf2\u001b[0m\u001b[0;34m=\u001b[0m\u001b[0;34mu'row2'\u001b[0m\u001b[0;34m)\u001b[0m\u001b[0;34m,\u001b[0m \u001b[0mRow\u001b[0m\u001b[0;34m(\u001b[0m\u001b[0mf1\u001b[0m\u001b[0;34m=\u001b[0m\u001b[0;36m3\u001b[0m\u001b[0;34m,\u001b[0m \u001b[0mf2\u001b[0m\u001b[0;34m=\u001b[0m\u001b[0;34mu'row3'\u001b[0m\u001b[0;34m)\u001b[0m\u001b[0;34m]\u001b[0m\u001b[0;34m\u001b[0m\u001b[0;34m\u001b[0m\u001b[0m\n\u001b[1;32m    648\u001b[0m         \"\"\"\n\u001b[0;32m--> 649\u001b[0;31m         \u001b[0;32mreturn\u001b[0m \u001b[0mDataFrame\u001b[0m\u001b[0;34m(\u001b[0m\u001b[0mself\u001b[0m\u001b[0;34m.\u001b[0m\u001b[0m_jsparkSession\u001b[0m\u001b[0;34m.\u001b[0m\u001b[0msql\u001b[0m\u001b[0;34m(\u001b[0m\u001b[0msqlQuery\u001b[0m\u001b[0;34m)\u001b[0m\u001b[0;34m,\u001b[0m \u001b[0mself\u001b[0m\u001b[0;34m.\u001b[0m\u001b[0m_wrapped\u001b[0m\u001b[0;34m)\u001b[0m\u001b[0;34m\u001b[0m\u001b[0;34m\u001b[0m\u001b[0m\n\u001b[0m\u001b[1;32m    650\u001b[0m \u001b[0;34m\u001b[0m\u001b[0m\n\u001b[1;32m    651\u001b[0m     \u001b[0;34m@\u001b[0m\u001b[0msince\u001b[0m\u001b[0;34m(\u001b[0m\u001b[0;36m2.0\u001b[0m\u001b[0;34m)\u001b[0m\u001b[0;34m\u001b[0m\u001b[0;34m\u001b[0m\u001b[0m\n",
      "\u001b[0;32m/usr/local/spark/python/lib/py4j-0.10.9-src.zip/py4j/java_gateway.py\u001b[0m in \u001b[0;36m__call__\u001b[0;34m(self, *args)\u001b[0m\n\u001b[1;32m   1302\u001b[0m \u001b[0;34m\u001b[0m\u001b[0m\n\u001b[1;32m   1303\u001b[0m         \u001b[0manswer\u001b[0m \u001b[0;34m=\u001b[0m \u001b[0mself\u001b[0m\u001b[0;34m.\u001b[0m\u001b[0mgateway_client\u001b[0m\u001b[0;34m.\u001b[0m\u001b[0msend_command\u001b[0m\u001b[0;34m(\u001b[0m\u001b[0mcommand\u001b[0m\u001b[0;34m)\u001b[0m\u001b[0;34m\u001b[0m\u001b[0;34m\u001b[0m\u001b[0m\n\u001b[0;32m-> 1304\u001b[0;31m         return_value = get_return_value(\n\u001b[0m\u001b[1;32m   1305\u001b[0m             answer, self.gateway_client, self.target_id, self.name)\n\u001b[1;32m   1306\u001b[0m \u001b[0;34m\u001b[0m\u001b[0m\n",
      "\u001b[0;32m/usr/local/spark/python/pyspark/sql/utils.py\u001b[0m in \u001b[0;36mdeco\u001b[0;34m(*a, **kw)\u001b[0m\n\u001b[1;32m    132\u001b[0m                 \u001b[0;31m# Hide where the exception came from that shows a non-Pythonic\u001b[0m\u001b[0;34m\u001b[0m\u001b[0;34m\u001b[0m\u001b[0;34m\u001b[0m\u001b[0m\n\u001b[1;32m    133\u001b[0m                 \u001b[0;31m# JVM exception message.\u001b[0m\u001b[0;34m\u001b[0m\u001b[0;34m\u001b[0m\u001b[0;34m\u001b[0m\u001b[0m\n\u001b[0;32m--> 134\u001b[0;31m                 \u001b[0mraise_from\u001b[0m\u001b[0;34m(\u001b[0m\u001b[0mconverted\u001b[0m\u001b[0;34m)\u001b[0m\u001b[0;34m\u001b[0m\u001b[0;34m\u001b[0m\u001b[0m\n\u001b[0m\u001b[1;32m    135\u001b[0m             \u001b[0;32melse\u001b[0m\u001b[0;34m:\u001b[0m\u001b[0;34m\u001b[0m\u001b[0;34m\u001b[0m\u001b[0m\n\u001b[1;32m    136\u001b[0m                 \u001b[0;32mraise\u001b[0m\u001b[0;34m\u001b[0m\u001b[0;34m\u001b[0m\u001b[0m\n",
      "\u001b[0;32m/usr/local/spark/python/pyspark/sql/utils.py\u001b[0m in \u001b[0;36mraise_from\u001b[0;34m(e)\u001b[0m\n",
      "\u001b[0;31mAnalysisException\u001b[0m: filter expression 'finno_db.`external_id`' of type string is not a boolean.;;\nProject [user_id#0, timezone#1, email#2, session_count#3L, first_session#4, last_session#5, last_app_version_used#6, in_app_purchase_total#7, unsubscribed_from_emails_at#8, devices#9, Appboy ID#10, created_at#11, external_id#134]\n+- Filter external_id#134: string\n   +- Join LeftOuter, (user_id#0 = external_id#134)\n      :- SubqueryAlias braze_db\n      :  +- LogicalRDD [user_id#0, timezone#1, email#2, session_count#3L, first_session#4, last_session#5, last_app_version_used#6, in_app_purchase_total#7, unsubscribed_from_emails_at#8, devices#9, Appboy ID#10, created_at#11], false\n      +- SubqueryAlias finno_db\n         +- LogicalRDD [external_id#134], false\n"
     ]
    }
   ],
   "source": [
    "# join 2 table df_finno_external_id with df_braze\n",
    "diff_2_table = spark.sql(\"\"\"\n",
    "    SELECT * FROM \n",
    "         braze_db\n",
    "    LEFT JOIN  \n",
    "         finno_db\n",
    "    ON \n",
    "        braze_db.user_id  = finno_db.external_id\n",
    "    WHERE \n",
    "        finno_db.external_id \n",
    "    \"\"\")"
   ]
  },
  {
   "cell_type": "code",
   "execution_count": 74,
   "metadata": {},
   "outputs": [
    {
     "name": "stdout",
     "output_type": "stream",
     "text": [
      "+--------------------+--------------------+--------------------+-----------+\n",
      "|             user_id|               email|           appboy_id|external_id|\n",
      "+--------------------+--------------------+--------------------+-----------+\n",
      "|3c36c24c-6449-4c4...|annatruangsak@gma...|5f80b623aae48f208...|       null|\n",
      "|aa5c7200-b6c8-45b...|niweerawan@hotmai...|5facf8f810b8b576d...|       null|\n",
      "|b80e2701-4a9a-460...|  tha.srkvw@live.com|5facf1b3c214fe21d...|       null|\n",
      "|6e063d8c-34b1-4a1...|chirawutkaewkunth...|5fa7c63c3f5e09259...|       null|\n",
      "|83dc491f-0f50-456...|      test@test.comq|5e8320ae6e835a214...|       null|\n",
      "|ad0b82b0-cbfc-499...| leelilly8@gmail.com|5facf95ed2aac869a...|       null|\n",
      "|76af76d3-d3de-44d...|duanthong840@gmai...|5facddadc49f5c6b1...|       null|\n",
      "|74a0cc17-187c-417...|      hsjs@hahaha.bx|5e8320c769496f16d...|       null|\n",
      "|cdb65795-fd6c-4f4...|arnon79056@gmail.com|5f67ad5cc614f808c...|       null|\n",
      "|7443deda-38df-4f6...|sunkick643@gmail.com|5f2c173d2d72062ab...|       null|\n",
      "|11f06361-62ac-4dd...|santi0801322733@l...|5f3b8ffba22795224...|       null|\n",
      "|7ac3a4f1-2070-4d1...|sprite.wt02@gmail...|5e1706eb945df779c...|       null|\n",
      "|ba8e8add-d0ad-420...|satawat.sujarit@g...|5facf983a7751720b...|       null|\n",
      "|13b507d7-0686-4d7...|  auai1980@gmail.com|5facf62502ebcd0d3...|       null|\n",
      "|d337ceed-7c53-4fd...|pondlkjgfb@gmail.com|5f91aa7c32160120a...|       null|\n",
      "|9138a4d4-adbb-493...|  thep3800@yahoo.com|5face3a1d05db36c5...|       null|\n",
      "|e5bf0c20-9e33-463...|  xs.max13@gmail.com|5face8738580d970c...|       null|\n",
      "|a7f5056a-6949-48a...|    aes506@gmail.com|5f9ba42d772c6e615...|       null|\n",
      "|f6b115e6-38e8-46f...|  big68957@gmail.com|5f7b7fa8678af048b...|       null|\n",
      "|               #REF!|supapron_tang@hot...|5ed8734142ba70216...|       null|\n",
      "+--------------------+--------------------+--------------------+-----------+\n",
      "only showing top 20 rows\n",
      "\n"
     ]
    }
   ],
   "source": [
    "diff_2_table.show()"
   ]
  },
  {
   "cell_type": "code",
   "execution_count": 75,
   "metadata": {},
   "outputs": [
    {
     "data": {
      "text/plain": [
       "169"
      ]
     },
     "execution_count": 75,
     "metadata": {},
     "output_type": "execute_result"
    }
   ],
   "source": [
    "diff_2_table.count()"
   ]
  },
  {
   "cell_type": "code",
   "execution_count": 76,
   "metadata": {},
   "outputs": [],
   "source": [
    "columns_to_drop = ['user_id', 'email', 'external_id']\n",
    "df_after_drop_columns = diff_2_table.drop(*columns_to_drop)"
   ]
  },
  {
   "cell_type": "code",
   "execution_count": 77,
   "metadata": {},
   "outputs": [
    {
     "name": "stdout",
     "output_type": "stream",
     "text": [
      "+--------------------+\n",
      "|           appboy_id|\n",
      "+--------------------+\n",
      "|5f80b623aae48f208...|\n",
      "|5facf8f810b8b576d...|\n",
      "|5facf1b3c214fe21d...|\n",
      "|5fa7c63c3f5e09259...|\n",
      "|5e8320ae6e835a214...|\n",
      "|5facf95ed2aac869a...|\n",
      "|5facddadc49f5c6b1...|\n",
      "|5e8320c769496f16d...|\n",
      "|5f67ad5cc614f808c...|\n",
      "|5f2c173d2d72062ab...|\n",
      "|5f3b8ffba22795224...|\n",
      "|5e1706eb945df779c...|\n",
      "|5facf983a7751720b...|\n",
      "|5facf62502ebcd0d3...|\n",
      "|5f91aa7c32160120a...|\n",
      "|5face3a1d05db36c5...|\n",
      "|5face8738580d970c...|\n",
      "|5f9ba42d772c6e615...|\n",
      "|5f7b7fa8678af048b...|\n",
      "|5ed8734142ba70216...|\n",
      "+--------------------+\n",
      "only showing top 20 rows\n",
      "\n"
     ]
    }
   ],
   "source": [
    "df_after_drop_columns.show()"
   ]
  },
  {
   "cell_type": "code",
   "execution_count": 43,
   "metadata": {},
   "outputs": [
    {
     "data": {
      "text/plain": [
       "169"
      ]
     },
     "execution_count": 43,
     "metadata": {},
     "output_type": "execute_result"
    }
   ],
   "source": [
    "df_after_drop_columns.count()"
   ]
  },
  {
   "cell_type": "code",
   "execution_count": 78,
   "metadata": {},
   "outputs": [],
   "source": [
    "df_list_appboy = df_after_drop_columns.toPandas()"
   ]
  },
  {
   "cell_type": "code",
   "execution_count": 79,
   "metadata": {},
   "outputs": [
    {
     "data": {
      "text/html": [
       "<div>\n",
       "<style scoped>\n",
       "    .dataframe tbody tr th:only-of-type {\n",
       "        vertical-align: middle;\n",
       "    }\n",
       "\n",
       "    .dataframe tbody tr th {\n",
       "        vertical-align: top;\n",
       "    }\n",
       "\n",
       "    .dataframe thead th {\n",
       "        text-align: right;\n",
       "    }\n",
       "</style>\n",
       "<table border=\"1\" class=\"dataframe\">\n",
       "  <thead>\n",
       "    <tr style=\"text-align: right;\">\n",
       "      <th></th>\n",
       "      <th>appboy_id</th>\n",
       "    </tr>\n",
       "  </thead>\n",
       "  <tbody>\n",
       "    <tr>\n",
       "      <th>0</th>\n",
       "      <td>5f80b623aae48f20874c6217</td>\n",
       "    </tr>\n",
       "    <tr>\n",
       "      <th>1</th>\n",
       "      <td>5facf8f810b8b576d1166e44</td>\n",
       "    </tr>\n",
       "    <tr>\n",
       "      <th>2</th>\n",
       "      <td>5facf1b3c214fe21d132600c</td>\n",
       "    </tr>\n",
       "    <tr>\n",
       "      <th>3</th>\n",
       "      <td>5fa7c63c3f5e092594aaecf8</td>\n",
       "    </tr>\n",
       "    <tr>\n",
       "      <th>4</th>\n",
       "      <td>5e8320ae6e835a2146f1474a</td>\n",
       "    </tr>\n",
       "  </tbody>\n",
       "</table>\n",
       "</div>"
      ],
      "text/plain": [
       "                  appboy_id\n",
       "0  5f80b623aae48f20874c6217\n",
       "1  5facf8f810b8b576d1166e44\n",
       "2  5facf1b3c214fe21d132600c\n",
       "3  5fa7c63c3f5e092594aaecf8\n",
       "4  5e8320ae6e835a2146f1474a"
      ]
     },
     "execution_count": 79,
     "metadata": {},
     "output_type": "execute_result"
    }
   ],
   "source": [
    "df_list_appboy.head()"
   ]
  },
  {
   "cell_type": "code",
   "execution_count": 80,
   "metadata": {},
   "outputs": [],
   "source": [
    "df_list_appboy.to_csv(\"df_list_appboy.csv\")"
   ]
  },
  {
   "cell_type": "code",
   "execution_count": null,
   "metadata": {},
   "outputs": [],
   "source": []
  }
 ],
 "metadata": {
  "kernelspec": {
   "display_name": "Python 3",
   "language": "python",
   "name": "python3"
  },
  "language_info": {
   "codemirror_mode": {
    "name": "ipython",
    "version": 3
   },
   "file_extension": ".py",
   "mimetype": "text/x-python",
   "name": "python",
   "nbconvert_exporter": "python",
   "pygments_lexer": "ipython3",
   "version": "3.8.6"
  }
 },
 "nbformat": 4,
 "nbformat_minor": 4
}
